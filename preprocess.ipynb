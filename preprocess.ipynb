{
 "cells": [
  {
   "cell_type": "code",
   "execution_count": 22,
   "metadata": {
    "collapsed": true,
    "ExecuteTime": {
     "end_time": "2023-05-24T06:11:51.936679200Z",
     "start_time": "2023-05-24T06:11:51.777686800Z"
    }
   },
   "outputs": [],
   "source": [
    "import pandas as pd\n",
    "from gensim.models.fasttext import FastText\n",
    "\n",
    "from main import preprocess"
   ]
  },
  {
   "cell_type": "code",
   "execution_count": 23,
   "outputs": [],
   "source": [
    "df = pd.read_csv('science.csv')"
   ],
   "metadata": {
    "collapsed": false,
    "ExecuteTime": {
     "end_time": "2023-05-24T06:11:51.938677400Z",
     "start_time": "2023-05-24T06:11:51.803681500Z"
    }
   }
  },
  {
   "cell_type": "code",
   "execution_count": 24,
   "outputs": [
    {
     "name": "stdout",
     "output_type": "stream",
     "text": [
      "<class 'pandas.core.frame.DataFrame'>\n",
      "RangeIndex: 8695 entries, 0 to 8694\n",
      "Data columns (total 3 columns):\n",
      " #   Column   Non-Null Count  Dtype \n",
      "---  ------   --------------  ----- \n",
      " 0   Id       8695 non-null   object\n",
      " 1   Comment  8695 non-null   object\n",
      " 2   Topic    8695 non-null   object\n",
      "dtypes: object(3)\n",
      "memory usage: 203.9+ KB\n"
     ]
    }
   ],
   "source": [
    "df.info()"
   ],
   "metadata": {
    "collapsed": false,
    "ExecuteTime": {
     "end_time": "2023-05-24T06:11:51.939676900Z",
     "start_time": "2023-05-24T06:11:51.881695800Z"
    }
   }
  },
  {
   "cell_type": "code",
   "execution_count": 25,
   "outputs": [
    {
     "data": {
      "text/plain": "          Id                                            Comment    Topic\n7942  0x1447  Yes wheel bugs are definitely beneficial insec...  Biology",
      "text/html": "<div>\n<style scoped>\n    .dataframe tbody tr th:only-of-type {\n        vertical-align: middle;\n    }\n\n    .dataframe tbody tr th {\n        vertical-align: top;\n    }\n\n    .dataframe thead th {\n        text-align: right;\n    }\n</style>\n<table border=\"1\" class=\"dataframe\">\n  <thead>\n    <tr style=\"text-align: right;\">\n      <th></th>\n      <th>Id</th>\n      <th>Comment</th>\n      <th>Topic</th>\n    </tr>\n  </thead>\n  <tbody>\n    <tr>\n      <th>7942</th>\n      <td>0x1447</td>\n      <td>Yes wheel bugs are definitely beneficial insec...</td>\n      <td>Biology</td>\n    </tr>\n  </tbody>\n</table>\n</div>"
     },
     "execution_count": 25,
     "metadata": {},
     "output_type": "execute_result"
    }
   ],
   "source": [
    "df.sample()"
   ],
   "metadata": {
    "collapsed": false,
    "ExecuteTime": {
     "end_time": "2023-05-24T06:11:51.940677900Z",
     "start_time": "2023-05-24T06:11:51.923682400Z"
    }
   }
  },
  {
   "cell_type": "code",
   "execution_count": 26,
   "outputs": [
    {
     "data": {
      "text/plain": "           Id    Comment    Topic\ncount    8695       8695     8695\nunique   8695       7950        3\ntop     0x840  [removed]  Biology\nfreq        1        114     3591",
      "text/html": "<div>\n<style scoped>\n    .dataframe tbody tr th:only-of-type {\n        vertical-align: middle;\n    }\n\n    .dataframe tbody tr th {\n        vertical-align: top;\n    }\n\n    .dataframe thead th {\n        text-align: right;\n    }\n</style>\n<table border=\"1\" class=\"dataframe\">\n  <thead>\n    <tr style=\"text-align: right;\">\n      <th></th>\n      <th>Id</th>\n      <th>Comment</th>\n      <th>Topic</th>\n    </tr>\n  </thead>\n  <tbody>\n    <tr>\n      <th>count</th>\n      <td>8695</td>\n      <td>8695</td>\n      <td>8695</td>\n    </tr>\n    <tr>\n      <th>unique</th>\n      <td>8695</td>\n      <td>7950</td>\n      <td>3</td>\n    </tr>\n    <tr>\n      <th>top</th>\n      <td>0x840</td>\n      <td>[removed]</td>\n      <td>Biology</td>\n    </tr>\n    <tr>\n      <th>freq</th>\n      <td>1</td>\n      <td>114</td>\n      <td>3591</td>\n    </tr>\n  </tbody>\n</table>\n</div>"
     },
     "execution_count": 26,
     "metadata": {},
     "output_type": "execute_result"
    }
   ],
   "source": [
    "df.describe()"
   ],
   "metadata": {
    "collapsed": false,
    "ExecuteTime": {
     "end_time": "2023-05-24T06:11:52.089681100Z",
     "start_time": "2023-05-24T06:11:51.952683400Z"
    }
   }
  },
  {
   "cell_type": "code",
   "execution_count": 27,
   "outputs": [
    {
     "data": {
      "text/plain": "Biology      3591\nChemistry    2920\nPhysics      2184\nName: Topic, dtype: int64"
     },
     "execution_count": 27,
     "metadata": {},
     "output_type": "execute_result"
    }
   ],
   "source": [
    "df[\"Topic\"].value_counts(dropna=False)"
   ],
   "metadata": {
    "collapsed": false,
    "ExecuteTime": {
     "end_time": "2023-05-24T06:11:52.155678300Z",
     "start_time": "2023-05-24T06:11:51.992682100Z"
    }
   }
  },
  {
   "cell_type": "code",
   "execution_count": 28,
   "outputs": [
    {
     "data": {
      "text/plain": "[removed]                                                                                                                                                                            114\n[deleted]                                                                                                                                                                             65\nThank you!                                                                                                                                                                             7\nThank you                                                                                                                                                                              5\nYes                                                                                                                                                                                    5\n                                                                                                                                                                                    ... \nya, you can make those overnight... :P                                                                                                                                                 1\nBiology is the study of life, there are plenty things to life that don’t involve the micro world.                                                                                      1\nThanks for the input. I didn’t plan on drinking tonight and I never take Tylenol or these kinds of meds at all; didn’t think about taking something else to relieve the symptoms.      1\nA\\n\\nNo need for showing of the work...I know I'm right...                                                                                                                             1\nI would like to know too.                                                                                                                                                              1\nName: Comment, Length: 7950, dtype: int64"
     },
     "execution_count": 28,
     "metadata": {},
     "output_type": "execute_result"
    }
   ],
   "source": [
    "df[\"Comment\"].value_counts(dropna=False)"
   ],
   "metadata": {
    "collapsed": false,
    "ExecuteTime": {
     "end_time": "2023-05-24T06:11:52.196688600Z",
     "start_time": "2023-05-24T06:11:52.027686400Z"
    }
   }
  },
  {
   "cell_type": "code",
   "execution_count": 29,
   "outputs": [
    {
     "data": {
      "text/plain": "0"
     },
     "execution_count": 29,
     "metadata": {},
     "output_type": "execute_result"
    }
   ],
   "source": [
    "df[\"Comment\"].isna().sum()"
   ],
   "metadata": {
    "collapsed": false,
    "ExecuteTime": {
     "end_time": "2023-05-24T06:11:52.197683500Z",
     "start_time": "2023-05-24T06:11:52.061714900Z"
    }
   }
  },
  {
   "cell_type": "code",
   "execution_count": 30,
   "outputs": [
    {
     "data": {
      "text/plain": "           Id     Comment    Topic\ncount    8516        8516     8516\nunique   8516        7948        3\ntop     0x840  Thank you!  Biology\nfreq        1           7     3566",
      "text/html": "<div>\n<style scoped>\n    .dataframe tbody tr th:only-of-type {\n        vertical-align: middle;\n    }\n\n    .dataframe tbody tr th {\n        vertical-align: top;\n    }\n\n    .dataframe thead th {\n        text-align: right;\n    }\n</style>\n<table border=\"1\" class=\"dataframe\">\n  <thead>\n    <tr style=\"text-align: right;\">\n      <th></th>\n      <th>Id</th>\n      <th>Comment</th>\n      <th>Topic</th>\n    </tr>\n  </thead>\n  <tbody>\n    <tr>\n      <th>count</th>\n      <td>8516</td>\n      <td>8516</td>\n      <td>8516</td>\n    </tr>\n    <tr>\n      <th>unique</th>\n      <td>8516</td>\n      <td>7948</td>\n      <td>3</td>\n    </tr>\n    <tr>\n      <th>top</th>\n      <td>0x840</td>\n      <td>Thank you!</td>\n      <td>Biology</td>\n    </tr>\n    <tr>\n      <th>freq</th>\n      <td>1</td>\n      <td>7</td>\n      <td>3566</td>\n    </tr>\n  </tbody>\n</table>\n</div>"
     },
     "execution_count": 30,
     "metadata": {},
     "output_type": "execute_result"
    }
   ],
   "source": [
    "df = df.query('Comment not in [\"[removed]\", \"[deleted]\"]')\n",
    "df.describe()"
   ],
   "metadata": {
    "collapsed": false,
    "ExecuteTime": {
     "end_time": "2023-05-24T06:11:52.379857200Z",
     "start_time": "2023-05-24T06:11:52.070683200Z"
    }
   }
  },
  {
   "cell_type": "code",
   "execution_count": 31,
   "outputs": [],
   "source": [
    "df[\"Comment\"] = df[\"Comment\"].apply(lambda comment: preprocess(comment))"
   ],
   "metadata": {
    "collapsed": false,
    "ExecuteTime": {
     "end_time": "2023-05-24T06:13:54.303678900Z",
     "start_time": "2023-05-24T06:11:52.134684500Z"
    }
   }
  },
  {
   "cell_type": "code",
   "execution_count": 34,
   "outputs": [],
   "source": [
    "df['Comment'] = df[\"Comment\"].apply(lambda cmt: cmt if len(cmt) > 3 else None)"
   ],
   "metadata": {
    "collapsed": false,
    "ExecuteTime": {
     "end_time": "2023-05-24T06:14:17.465553200Z",
     "start_time": "2023-05-24T06:14:17.419799300Z"
    }
   }
  },
  {
   "cell_type": "code",
   "execution_count": 35,
   "outputs": [],
   "source": [
    "# df.dropna(inplace=True, ignore_index=True, subset=[\"Comment\"])\n",
    "df.dropna(inplace=True, subset=[\"Comment\"])"
   ],
   "metadata": {
    "collapsed": false,
    "ExecuteTime": {
     "end_time": "2023-05-24T06:14:18.438959800Z",
     "start_time": "2023-05-24T06:14:18.404170800Z"
    }
   }
  },
  {
   "cell_type": "code",
   "execution_count": 36,
   "outputs": [],
   "source": [
    "df.reset_index(drop=True, inplace=True)"
   ],
   "metadata": {
    "collapsed": false,
    "ExecuteTime": {
     "end_time": "2023-05-24T06:14:22.017901400Z",
     "start_time": "2023-05-24T06:14:21.990812900Z"
    }
   }
  },
  {
   "cell_type": "code",
   "execution_count": 37,
   "outputs": [
    {
     "name": "stdout",
     "output_type": "stream",
     "text": [
      "<class 'pandas.core.frame.DataFrame'>\n",
      "RangeIndex: 8396 entries, 0 to 8395\n",
      "Data columns (total 3 columns):\n",
      " #   Column   Non-Null Count  Dtype \n",
      "---  ------   --------------  ----- \n",
      " 0   Id       8396 non-null   object\n",
      " 1   Comment  8396 non-null   object\n",
      " 2   Topic    8396 non-null   object\n",
      "dtypes: object(3)\n",
      "memory usage: 196.9+ KB\n"
     ]
    }
   ],
   "source": [
    "df.info()"
   ],
   "metadata": {
    "collapsed": false,
    "ExecuteTime": {
     "end_time": "2023-05-24T06:14:22.394806200Z",
     "start_time": "2023-05-24T06:14:22.315318100Z"
    }
   }
  },
  {
   "cell_type": "code",
   "execution_count": 38,
   "outputs": [
    {
     "data": {
      "text/plain": "thank                                                                                                                                                                                                                                           25\nthanks                                                                                                                                                                                                                                          12\nthank                                                                                                                                                                                                                                            5\neat find                                                                                                                                                                                                                                         5\ngood ideas thank                                                                                                                                                                                                                                 4\n                                                                                                                                                                                                                                                ..\nrecently done bachelors electronics comm interested quantum computing dont yet enough cred either cs physics get research rolenni read recent posts people qc field looking people good knowledge quantum physics programmingnnwhat thoughts     1\ndepends youre probably                                                                                                                                                                                                                           1\nkeep simple choh                                                                                                                                                                                                                                 1\nim asking fact probable failure dont know happens dont think read said thoroughly                                                                                                                                                                1\nwould like know                                                                                                                                                                                                                                  1\nName: Comment, Length: 7783, dtype: int64"
     },
     "execution_count": 38,
     "metadata": {},
     "output_type": "execute_result"
    }
   ],
   "source": [
    "df[\"Comment\"].value_counts(dropna=False)"
   ],
   "metadata": {
    "collapsed": false,
    "ExecuteTime": {
     "end_time": "2023-05-24T06:14:25.580408300Z",
     "start_time": "2023-05-24T06:14:25.552644300Z"
    }
   }
  },
  {
   "cell_type": "code",
   "execution_count": 39,
   "outputs": [],
   "source": [
    "df.to_csv('science_preprocessed.csv', index=False)"
   ],
   "metadata": {
    "collapsed": false,
    "ExecuteTime": {
     "end_time": "2023-05-24T06:14:27.767940Z",
     "start_time": "2023-05-24T06:14:27.688917600Z"
    }
   }
  },
  {
   "cell_type": "code",
   "execution_count": null,
   "outputs": [],
   "source": [],
   "metadata": {
    "collapsed": false,
    "ExecuteTime": {
     "start_time": "2023-05-24T06:13:54.364317700Z"
    }
   }
  }
 ],
 "metadata": {
  "kernelspec": {
   "display_name": "Python 3",
   "language": "python",
   "name": "python3"
  },
  "language_info": {
   "codemirror_mode": {
    "name": "ipython",
    "version": 2
   },
   "file_extension": ".py",
   "mimetype": "text/x-python",
   "name": "python",
   "nbconvert_exporter": "python",
   "pygments_lexer": "ipython2",
   "version": "2.7.6"
  }
 },
 "nbformat": 4,
 "nbformat_minor": 0
}
