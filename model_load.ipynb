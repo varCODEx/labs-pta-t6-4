{
 "cells": [
  {
   "cell_type": "code",
   "execution_count": 7,
   "metadata": {
    "collapsed": true,
    "ExecuteTime": {
     "end_time": "2023-05-24T05:58:46.432712900Z",
     "start_time": "2023-05-24T05:58:46.387895800Z"
    }
   },
   "outputs": [],
   "source": [
    "import fasttext\n",
    "import fasttext.util\n",
    "import gc\n",
    "import numpy as np\n",
    "import pandas as pd"
   ]
  },
  {
   "cell_type": "code",
   "execution_count": 3,
   "outputs": [
    {
     "data": {
      "text/plain": "50"
     },
     "execution_count": 3,
     "metadata": {},
     "output_type": "execute_result"
    }
   ],
   "source": [
    "# model = fasttext.load_model('e:/data/wiki.en/wiki.en.bin')\n",
    "# fasttext.util.reduce_model(model, 50)\n",
    "# model.save_model('e:/data/wiki.en/wiki.en.50.bin')\n",
    "model = fasttext.load_model('e:/data/wiki.en/wiki.en.50.bin')\n",
    "model.get_dimension()"
   ],
   "metadata": {
    "collapsed": false,
    "ExecuteTime": {
     "end_time": "2023-05-24T05:56:12.892454300Z",
     "start_time": "2023-05-24T05:56:02.132942900Z"
    }
   }
  },
  {
   "cell_type": "code",
   "execution_count": 16,
   "outputs": [],
   "source": [
    "from main import sentence_embedding"
   ],
   "metadata": {
    "collapsed": false,
    "ExecuteTime": {
     "end_time": "2023-05-24T06:01:22.587927900Z",
     "start_time": "2023-05-24T06:01:22.559150600Z"
    }
   }
  },
  {
   "cell_type": "code",
   "execution_count": 23,
   "outputs": [],
   "source": [
    "df = pd.read_csv(\"science_preprocessed.csv\")"
   ],
   "metadata": {
    "collapsed": false,
    "ExecuteTime": {
     "end_time": "2023-05-24T06:14:34.596682300Z",
     "start_time": "2023-05-24T06:14:34.536987800Z"
    }
   }
  },
  {
   "cell_type": "code",
   "execution_count": 24,
   "outputs": [
    {
     "data": {
      "text/plain": "0       things might negative frequency dependent sele...\n1       hard believe exist particulars cant detect any...\n2                                                    bees\n3       im medication technician thats alot drugs live...\n4                                     cesium pretty metal\n                              ...                        \n8391    make similar observations last weeks southern ...\n8392                                           would know\n8393                     also use correct number sig figs\n8394    ethical delimmas  groundbreaking technology fu...\n8395                                      would like know\nName: Comment, Length: 8396, dtype: object"
     },
     "execution_count": 24,
     "metadata": {},
     "output_type": "execute_result"
    }
   ],
   "source": [
    "df[\"Comment\"]"
   ],
   "metadata": {
    "collapsed": false,
    "ExecuteTime": {
     "end_time": "2023-05-24T06:14:34.975891200Z",
     "start_time": "2023-05-24T06:14:34.937647800Z"
    }
   }
  },
  {
   "cell_type": "code",
   "execution_count": 25,
   "outputs": [],
   "source": [
    "df[\"embedding\"] = df[\"Comment\"].apply(lambda x: sentence_embedding(model, x))"
   ],
   "metadata": {
    "collapsed": false,
    "ExecuteTime": {
     "end_time": "2023-05-24T06:14:41.823646400Z",
     "start_time": "2023-05-24T06:14:39.595441600Z"
    }
   }
  },
  {
   "cell_type": "code",
   "execution_count": 27,
   "outputs": [
    {
     "data": {
      "text/plain": "0       [0.79774857, 0.3259651, 0.20349991, 0.16645093...\n1       [0.65064895, 0.5862795, -0.15224703, 0.4398283...\n2       [0.6907818, 0.066907324, -0.036375612, -0.5117...\n3       [0.5592844, 0.3856144, -0.29346547, 0.6028905,...\n4       [1.0227782, 0.6270642, -0.2593441, 0.006965121...\n                              ...                        \n8391    [0.6099499, 0.1461635, -0.02774906, 0.37104788...\n8392    [0.4249072, 0.5314208, -0.32042736, 0.9165536,...\n8393    [0.6947644, 0.34940234, -0.07923523, 0.2481312...\n8394    [0.46932647, 0.21289866, 0.1264139, 0.50587773...\n8395    [0.38831684, 0.5903885, -0.30326623, 0.6427147...\nName: embedding, Length: 8396, dtype: object"
     },
     "execution_count": 27,
     "metadata": {},
     "output_type": "execute_result"
    }
   ],
   "source": [
    "df[\"embedding\"]"
   ],
   "metadata": {
    "collapsed": false,
    "ExecuteTime": {
     "end_time": "2023-05-24T06:14:57.947753700Z",
     "start_time": "2023-05-24T06:14:57.900360100Z"
    }
   }
  },
  {
   "cell_type": "code",
   "execution_count": 28,
   "outputs": [],
   "source": [
    "df.to_csv(\"science_preprocessed_embedding.csv\", index=False)"
   ],
   "metadata": {
    "collapsed": false,
    "ExecuteTime": {
     "end_time": "2023-05-24T06:15:22.234296800Z",
     "start_time": "2023-05-24T06:15:18.041785100Z"
    }
   }
  },
  {
   "cell_type": "code",
   "execution_count": null,
   "outputs": [],
   "source": [],
   "metadata": {
    "collapsed": false
   }
  }
 ],
 "metadata": {
  "kernelspec": {
   "display_name": "Python 3",
   "language": "python",
   "name": "python3"
  },
  "language_info": {
   "codemirror_mode": {
    "name": "ipython",
    "version": 2
   },
   "file_extension": ".py",
   "mimetype": "text/x-python",
   "name": "python",
   "nbconvert_exporter": "python",
   "pygments_lexer": "ipython2",
   "version": "2.7.6"
  }
 },
 "nbformat": 4,
 "nbformat_minor": 0
}
