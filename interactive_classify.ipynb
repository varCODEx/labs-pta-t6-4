{
 "cells": [
  {
   "cell_type": "code",
   "execution_count": 1,
   "metadata": {
    "collapsed": true,
    "ExecuteTime": {
     "end_time": "2023-05-24T08:09:16.478812800Z",
     "start_time": "2023-05-24T08:09:14.439366900Z"
    }
   },
   "outputs": [],
   "source": [
    "import pickle\n",
    "import fasttext\n",
    "\n",
    "from main import preprocess, sentence_embedding"
   ]
  },
  {
   "cell_type": "code",
   "execution_count": 2,
   "outputs": [],
   "source": [
    "model = fasttext.load_model('e:/data/wiki.en/wiki.en.50.bin')"
   ],
   "metadata": {
    "collapsed": false,
    "ExecuteTime": {
     "end_time": "2023-05-24T08:09:29.532370400Z",
     "start_time": "2023-05-24T08:09:17.673988100Z"
    }
   }
  },
  {
   "cell_type": "code",
   "execution_count": 3,
   "outputs": [],
   "source": [
    "classifier = pickle.load(open('science_svm.pkl', 'rb'))"
   ],
   "metadata": {
    "collapsed": false,
    "ExecuteTime": {
     "end_time": "2023-05-24T08:09:29.594475200Z",
     "start_time": "2023-05-24T08:09:29.536834800Z"
    }
   }
  },
  {
   "cell_type": "code",
   "execution_count": 6,
   "outputs": [],
   "source": [
    "def predict(sentence):\n",
    "    sentence = preprocess(sentence)\n",
    "    embs = sentence_embedding(model, sentence)\n",
    "    return classifier.predict([embs])"
   ],
   "metadata": {
    "collapsed": false,
    "ExecuteTime": {
     "end_time": "2023-05-24T08:10:49.495136500Z",
     "start_time": "2023-05-24T08:10:49.475460Z"
    }
   }
  },
  {
   "cell_type": "code",
   "execution_count": 20,
   "outputs": [
    {
     "data": {
      "text/plain": "'Physics'"
     },
     "execution_count": 20,
     "metadata": {},
     "output_type": "execute_result"
    }
   ],
   "source": [
    "predict(\"Hi all, I made a quantum Wave function simulator where you can set any potential energy function V(x) and initial wave function Ψ(x, 0) you like!\")[0]"
   ],
   "metadata": {
    "collapsed": false,
    "ExecuteTime": {
     "end_time": "2023-05-24T08:26:49.966627100Z",
     "start_time": "2023-05-24T08:26:49.928402800Z"
    }
   }
  },
  {
   "cell_type": "code",
   "execution_count": null,
   "outputs": [],
   "source": [],
   "metadata": {
    "collapsed": false
   }
  }
 ],
 "metadata": {
  "kernelspec": {
   "display_name": "Python 3",
   "language": "python",
   "name": "python3"
  },
  "language_info": {
   "codemirror_mode": {
    "name": "ipython",
    "version": 2
   },
   "file_extension": ".py",
   "mimetype": "text/x-python",
   "name": "python",
   "nbconvert_exporter": "python",
   "pygments_lexer": "ipython2",
   "version": "2.7.6"
  }
 },
 "nbformat": 4,
 "nbformat_minor": 0
}
