{
 "cells": [
  {
   "cell_type": "code",
   "execution_count": 55,
   "metadata": {
    "collapsed": true,
    "ExecuteTime": {
     "end_time": "2023-05-24T08:00:29.927958100Z",
     "start_time": "2023-05-24T08:00:29.902405Z"
    }
   },
   "outputs": [],
   "source": [
    "import pandas as pd\n",
    "import numpy as np\n",
    "\n",
    "from sklearn.model_selection import train_test_split\n",
    "from sklearn.model_selection import cross_validate\n",
    "from sklearn.model_selection import GridSearchCV\n",
    "\n",
    "from sklearn.ensemble import RandomForestClassifier\n",
    "from sklearn.svm import SVC\n",
    "\n",
    "from sklearn.metrics import accuracy_score"
   ]
  },
  {
   "cell_type": "code",
   "execution_count": 17,
   "outputs": [],
   "source": [
    "converters = {\"embedding\": lambda x: np.fromstring(x[1:-1], sep=\"  \")}\n",
    "df = pd.read_csv('science_preprocessed_embedding.csv', converters=converters)"
   ],
   "metadata": {
    "collapsed": false,
    "ExecuteTime": {
     "end_time": "2023-05-24T06:21:51.833600900Z",
     "start_time": "2023-05-24T06:21:51.236744200Z"
    }
   }
  },
  {
   "cell_type": "code",
   "execution_count": 18,
   "outputs": [
    {
     "name": "stdout",
     "output_type": "stream",
     "text": [
      "<class 'pandas.core.frame.DataFrame'>\n",
      "RangeIndex: 8396 entries, 0 to 8395\n",
      "Data columns (total 4 columns):\n",
      " #   Column     Non-Null Count  Dtype \n",
      "---  ------     --------------  ----- \n",
      " 0   Id         8396 non-null   object\n",
      " 1   Comment    8396 non-null   object\n",
      " 2   Topic      8396 non-null   object\n",
      " 3   embedding  8396 non-null   object\n",
      "dtypes: object(4)\n",
      "memory usage: 262.5+ KB\n"
     ]
    }
   ],
   "source": [
    "df.info()"
   ],
   "metadata": {
    "collapsed": false,
    "ExecuteTime": {
     "end_time": "2023-05-24T06:21:51.898097300Z",
     "start_time": "2023-05-24T06:21:51.841600400Z"
    }
   }
  },
  {
   "cell_type": "code",
   "execution_count": 38,
   "outputs": [],
   "source": [
    "X = df.loc[:, 'embedding'].tolist()\n",
    "Y = df.loc[:, 'Topic'].tolist()"
   ],
   "metadata": {
    "collapsed": false,
    "ExecuteTime": {
     "end_time": "2023-05-24T07:24:10.453388900Z",
     "start_time": "2023-05-24T07:24:10.425973900Z"
    }
   }
  },
  {
   "cell_type": "code",
   "execution_count": 39,
   "outputs": [],
   "source": [
    "x_train, x_test, y_train, y_test = train_test_split(X, Y, test_size=0.15,\n",
    "                                                    random_state=7)\n",
    "# _test is for final validation only!"
   ],
   "metadata": {
    "collapsed": false,
    "ExecuteTime": {
     "end_time": "2023-05-24T07:24:10.871064900Z",
     "start_time": "2023-05-24T07:24:10.812214700Z"
    }
   }
  },
  {
   "cell_type": "code",
   "execution_count": 32,
   "outputs": [],
   "source": [
    "rfc = RandomForestClassifier(n_estimators=100, random_state=7)"
   ],
   "metadata": {
    "collapsed": false,
    "ExecuteTime": {
     "end_time": "2023-05-24T07:14:26.522946200Z",
     "start_time": "2023-05-24T07:14:26.504297100Z"
    }
   }
  },
  {
   "cell_type": "code",
   "execution_count": 37,
   "outputs": [
    {
     "data": {
      "text/plain": "{'fit_time': array([6.43953133, 6.32897615, 6.40564036, 6.51249909, 7.78329659]),\n 'score_time': array([0.09704113, 0.04700089, 0.05152059, 0.05600262, 0.06805444]),\n 'test_accuracy': array([0.69677871, 0.70567624, 0.69586545, 0.67904695, 0.6923616 ])}"
     },
     "execution_count": 37,
     "metadata": {},
     "output_type": "execute_result"
    }
   ],
   "source": [
    "_ = cross_validate(rfc, x_train, y_train, scoring=['accuracy'])\n",
    "_"
   ],
   "metadata": {
    "collapsed": false,
    "ExecuteTime": {
     "end_time": "2023-05-24T07:23:10.704760500Z",
     "start_time": "2023-05-24T07:22:36.743323300Z"
    }
   }
  },
  {
   "cell_type": "code",
   "execution_count": 42,
   "outputs": [],
   "source": [
    "sv = SVC(kernel='linear', random_state=7)"
   ],
   "metadata": {
    "collapsed": false,
    "ExecuteTime": {
     "end_time": "2023-05-24T07:30:17.521507700Z",
     "start_time": "2023-05-24T07:30:17.501712Z"
    }
   }
  },
  {
   "cell_type": "code",
   "execution_count": 44,
   "outputs": [
    {
     "data": {
      "text/plain": "{'fit_time': array([1.99537277, 1.60805035, 1.60653186, 1.55415797, 1.58533883]),\n 'score_time': array([0.20796824, 0.21499157, 0.22251701, 0.21225548, 0.20900178]),\n 'test_accuracy': array([0.67086835, 0.70567624, 0.6706377 , 0.66433076, 0.67133847])}"
     },
     "execution_count": 44,
     "metadata": {},
     "output_type": "execute_result"
    }
   ],
   "source": [
    "_ = cross_validate(sv, x_train, y_train, scoring=['accuracy'])\n",
    "_"
   ],
   "metadata": {
    "collapsed": false,
    "ExecuteTime": {
     "end_time": "2023-05-24T07:34:26.957294600Z",
     "start_time": "2023-05-24T07:34:17.505964800Z"
    }
   }
  },
  {
   "cell_type": "code",
   "execution_count": 57,
   "outputs": [
    {
     "name": "stdout",
     "output_type": "stream",
     "text": [
      "Fitting 5 folds for each of 8 candidates, totalling 40 fits\n"
     ]
    }
   ],
   "source": [
    "sv_ = SVC(kernel='linear', random_state=7)\n",
    "search = GridSearchCV(sv_,\n",
    "                      {'C': [0.1, 1, 10, 100],\n",
    "                       'kernel': ['linear', 'rbf'],\n",
    "                       },\n",
    "                      scoring='accuracy', n_jobs=-1, verbose=3)\n",
    "search.fit(x_train, y_train);"
   ],
   "metadata": {
    "collapsed": false,
    "ExecuteTime": {
     "end_time": "2023-05-24T08:03:41.243414900Z",
     "start_time": "2023-05-24T08:02:14.393606100Z"
    }
   }
  },
  {
   "cell_type": "code",
   "execution_count": 58,
   "outputs": [
    {
     "data": {
      "text/plain": "{'mean_fit_time': array([ 6.46514149, 10.13927932,  7.81648836,  7.82645345, 10.49346156,\n         7.76989942, 37.88509836, 13.39023499]),\n 'std_fit_time': array([1.05580651, 1.07526714, 1.32887965, 0.53453762, 0.3503068 ,\n        0.65662611, 1.32560183, 1.11862119]),\n 'mean_score_time': array([0.80857987, 3.58352532, 0.79644217, 2.62824035, 0.70867729,\n        2.37821674, 0.43724585, 2.56178641]),\n 'std_score_time': array([0.03852799, 0.66234223, 0.15778997, 0.08374678, 0.07610315,\n        0.18194912, 0.16786083, 0.43851958]),\n 'param_C': masked_array(data=[0.1, 0.1, 1, 1, 10, 10, 100, 100],\n              mask=[False, False, False, False, False, False, False, False],\n        fill_value='?',\n             dtype=object),\n 'param_kernel': masked_array(data=['linear', 'rbf', 'linear', 'rbf', 'linear', 'rbf',\n                    'linear', 'rbf'],\n              mask=[False, False, False, False, False, False, False, False],\n        fill_value='?',\n             dtype=object),\n 'params': [{'C': 0.1, 'kernel': 'linear'},\n  {'C': 0.1, 'kernel': 'rbf'},\n  {'C': 1, 'kernel': 'linear'},\n  {'C': 1, 'kernel': 'rbf'},\n  {'C': 10, 'kernel': 'linear'},\n  {'C': 10, 'kernel': 'rbf'},\n  {'C': 100, 'kernel': 'linear'},\n  {'C': 100, 'kernel': 'rbf'}],\n 'split0_test_score': array([0.66176471, 0.66036415, 0.67086835, 0.69327731, 0.66456583,\n        0.69677871, 0.66526611, 0.68277311]),\n 'split1_test_score': array([0.69306237, 0.69446391, 0.70567624, 0.70637701, 0.69656622,\n        0.70707779, 0.69726699, 0.70287316]),\n 'split2_test_score': array([0.66853539, 0.67133847, 0.6706377 , 0.69586545, 0.67764541,\n        0.71058164, 0.67694464, 0.6874562 ]),\n 'split3_test_score': array([0.65241766, 0.6538192 , 0.66433076, 0.67764541, 0.66152768,\n        0.68605466, 0.66292922, 0.66292922]),\n 'split4_test_score': array([0.66292922, 0.65662228, 0.67133847, 0.69306237, 0.66853539,\n        0.69166083, 0.66783462, 0.69025929]),\n 'mean_test_score': array([0.66774187, 0.6673216 , 0.67657031, 0.69324551, 0.67376811,\n        0.69843072, 0.67404832, 0.6852582 ]),\n 'std_test_score': array([0.01367828, 0.01481915, 0.01477865, 0.00919454, 0.01262283,\n        0.00921026, 0.01254486, 0.01299914]),\n 'rank_test_score': array([7, 8, 4, 2, 6, 1, 5, 3])}"
     },
     "execution_count": 58,
     "metadata": {},
     "output_type": "execute_result"
    }
   ],
   "source": [
    "search.cv_results_"
   ],
   "metadata": {
    "collapsed": false,
    "ExecuteTime": {
     "end_time": "2023-05-24T08:03:41.317142400Z",
     "start_time": "2023-05-24T08:03:41.246392900Z"
    }
   }
  },
  {
   "cell_type": "code",
   "execution_count": 59,
   "outputs": [
    {
     "data": {
      "text/plain": "0.6984307247776476"
     },
     "execution_count": 59,
     "metadata": {},
     "output_type": "execute_result"
    }
   ],
   "source": [
    "search.best_score_"
   ],
   "metadata": {
    "collapsed": false,
    "ExecuteTime": {
     "end_time": "2023-05-24T08:03:41.343142600Z",
     "start_time": "2023-05-24T08:03:41.276537100Z"
    }
   }
  },
  {
   "cell_type": "code",
   "execution_count": 60,
   "outputs": [
    {
     "data": {
      "text/plain": "{'C': 10, 'kernel': 'rbf'}"
     },
     "execution_count": 60,
     "metadata": {},
     "output_type": "execute_result"
    }
   ],
   "source": [
    "search.best_params_"
   ],
   "metadata": {
    "collapsed": false,
    "ExecuteTime": {
     "end_time": "2023-05-24T08:03:41.344138900Z",
     "start_time": "2023-05-24T08:03:41.325137900Z"
    }
   }
  },
  {
   "cell_type": "code",
   "execution_count": 52,
   "outputs": [
    {
     "name": "stdout",
     "output_type": "stream",
     "text": [
      "Fitting 5 folds for each of 6 candidates, totalling 30 fits\n"
     ]
    }
   ],
   "source": [
    "rf_ = RandomForestClassifier(random_state=7)\n",
    "searchf = GridSearchCV(rf_, {'n_estimators': [1,5,10,50,100,300]},\n",
    "                      scoring='accuracy', n_jobs=-1, verbose=3)\n",
    "searchf.fit(x_train, y_train);"
   ],
   "metadata": {
    "collapsed": false,
    "ExecuteTime": {
     "end_time": "2023-05-24T07:59:23.569690700Z",
     "start_time": "2023-05-24T07:57:59.535629700Z"
    }
   }
  },
  {
   "cell_type": "code",
   "execution_count": 54,
   "outputs": [
    {
     "data": {
      "text/plain": "0.6992716497951669"
     },
     "execution_count": 54,
     "metadata": {},
     "output_type": "execute_result"
    }
   ],
   "source": [
    "searchf.best_score_"
   ],
   "metadata": {
    "collapsed": false,
    "ExecuteTime": {
     "end_time": "2023-05-24T08:00:04.337039600Z",
     "start_time": "2023-05-24T08:00:04.260332800Z"
    }
   }
  },
  {
   "cell_type": "code",
   "execution_count": null,
   "outputs": [],
   "source": [
    "#"
   ],
   "metadata": {
    "collapsed": false
   }
  },
  {
   "cell_type": "code",
   "execution_count": 61,
   "outputs": [
    {
     "data": {
      "text/plain": "0.7285714285714285"
     },
     "execution_count": 61,
     "metadata": {},
     "output_type": "execute_result"
    }
   ],
   "source": [
    "accuracy_score(y_test, search.predict(x_test))"
   ],
   "metadata": {
    "collapsed": false,
    "ExecuteTime": {
     "end_time": "2023-05-24T08:03:42.555182Z",
     "start_time": "2023-05-24T08:03:41.339138200Z"
    }
   }
  },
  {
   "cell_type": "code",
   "execution_count": 62,
   "outputs": [],
   "source": [
    "import pickle\n",
    "pickle.dump(search, open('science_svm.pkl', 'wb'))"
   ],
   "metadata": {
    "collapsed": false,
    "ExecuteTime": {
     "end_time": "2023-05-24T08:03:42.641687100Z",
     "start_time": "2023-05-24T08:03:42.559173900Z"
    }
   }
  },
  {
   "cell_type": "code",
   "execution_count": null,
   "outputs": [],
   "source": [],
   "metadata": {
    "collapsed": false
   }
  }
 ],
 "metadata": {
  "kernelspec": {
   "display_name": "Python 3",
   "language": "python",
   "name": "python3"
  },
  "language_info": {
   "codemirror_mode": {
    "name": "ipython",
    "version": 2
   },
   "file_extension": ".py",
   "mimetype": "text/x-python",
   "name": "python",
   "nbconvert_exporter": "python",
   "pygments_lexer": "ipython2",
   "version": "2.7.6"
  }
 },
 "nbformat": 4,
 "nbformat_minor": 0
}
